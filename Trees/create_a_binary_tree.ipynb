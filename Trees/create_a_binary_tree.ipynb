{
 "cells": [
  {
   "cell_type": "code",
   "execution_count": 2,
   "metadata": {},
   "outputs": [],
   "source": [
    "## Define a node\n",
    "class Node:\n",
    "\n",
    "    def __init__(self,value = None):\n",
    "        self.value = value\n",
    "        self.left = None\n",
    "        self.right = None\n",
    "    \n",
    "    def get_value(self):\n",
    "        return self.value\n",
    "    def set_value(self,value):\n",
    "        self.value = value\n",
    "\n",
    "        \n",
    "    def get_left_child(self):\n",
    "        return self.left\n",
    "    def get_right_child(self):\n",
    "        return self.right\n",
    "    \n",
    "    def set_left_child(self,node):\n",
    "        self.left = node\n",
    "    def set_right_child(self,node):\n",
    "        self.right = node\n",
    "        \n",
    "    def has_left_child(self):\n",
    "        return self.left != None\n",
    "    def has_right_child(self):\n",
    "        return self.right != None\n",
    "    \n",
    "        \n"
   ]
  },
  {
   "cell_type": "code",
   "execution_count": 3,
   "metadata": {},
   "outputs": [],
   "source": [
    "class Tree:\n",
    "    def __init__(self, value = None):\n",
    "        self.root = Node(value)\n",
    "    \n",
    "    def get_root(self):\n",
    "        return self.root\n",
    "    "
   ]
  },
  {
   "cell_type": "code",
   "execution_count": null,
   "metadata": {},
   "outputs": [],
   "source": []
  }
 ],
 "metadata": {
  "kernelspec": {
   "display_name": "Python 3",
   "language": "python",
   "name": "python3"
  },
  "language_info": {
   "codemirror_mode": {
    "name": "ipython",
    "version": 3
   },
   "file_extension": ".py",
   "mimetype": "text/x-python",
   "name": "python",
   "nbconvert_exporter": "python",
   "pygments_lexer": "ipython3",
   "version": "3.7.3"
  }
 },
 "nbformat": 4,
 "nbformat_minor": 2
}
