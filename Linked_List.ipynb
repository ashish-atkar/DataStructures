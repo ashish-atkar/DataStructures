{
 "cells": [
  {
   "cell_type": "markdown",
   "metadata": {},
   "source": [
    "## Simple Linked List"
   ]
  },
  {
   "cell_type": "code",
   "execution_count": 4,
   "metadata": {},
   "outputs": [
    {
     "name": "stdout",
     "output_type": "stream",
     "text": [
      "1\n"
     ]
    }
   ],
   "source": [
    "class Node:\n",
    "    def __init__(self,value):\n",
    "        self.value=value\n",
    "        self.next=None\n",
    "        \n",
    "head = Node(2)\n",
    "head.next = Node(1)\n",
    "print(head.next.value)"
   ]
  },
  {
   "cell_type": "code",
   "execution_count": 7,
   "metadata": {},
   "outputs": [],
   "source": [
    "def print_linked_list(head):\n",
    "    current_node = head\n",
    "    \n",
    "    while current_node is not None:\n",
    "        print(current_node.value)\n",
    "        current_node = current_node.next\n"
   ]
  },
  {
   "cell_type": "code",
   "execution_count": 10,
   "metadata": {},
   "outputs": [],
   "source": [
    "#this create function has nested loops whie inside for loop and for every value we need to traverse the list from first and \n",
    "#    then add node this makes time complexity as O(n) \n",
    "def create_linked_list(input_list):\n",
    "    head = None\n",
    "    \n",
    "    for value in input_list:\n",
    "        if head is None:\n",
    "            head = Node(value)\n",
    "        else:\n",
    "            current_node = head\n",
    "            while current_node.next:\n",
    "                current_node = current_node.next\n",
    "            current_node.next = Node(value)\n",
    "            \n",
    "#So lets try to reduce time complexity by adding tail reference so that we can keep the track of end node\n",
    "def create_linked_list_better(input_list):\n",
    "    head = None\n",
    "    tail = None \n",
    "    \n",
    "    for value in input_list:\n",
    "        \n",
    "        if head is None:\n",
    "            head = Node(value)\n",
    "            tail = head\n",
    "        else:\n",
    "            tail.next = Node(value)\n",
    "            tail = tail.next\n",
    "            \n",
    "    return head\n",
    "\n",
    "#So now we created linked list in O(n)"
   ]
  },
  {
   "cell_type": "markdown",
   "metadata": {},
   "source": [
    "We will create a LinkedList class as a wrapper for the nodes themselves and to provide common methods that operate on the list. We will create >>append<< method that adds a value to end of list "
   ]
  },
  {
   "cell_type": "code",
   "execution_count": 19,
   "metadata": {},
   "outputs": [],
   "source": [
    "class LinkedList:\n",
    "    def __init__(self):\n",
    "        self.head = None\n",
    "\n",
    "    def append(self,value):\n",
    "        if self.head is None:\n",
    "            self.head = Node(value)\n",
    "            return\n",
    "        #move to end node\n",
    "        node = self.head\n",
    "        while node.next:\n",
    "            node = node.next\n",
    "            \n",
    "        node.next = Node(value)\n",
    "        return\n",
    "    \n",
    "    def to_list(self):\n",
    "        our_list = []\n",
    "        node = self.head\n",
    "        \n",
    "        while node:\n",
    "            our_list.append(node.value)\n",
    "            node = node.next\n",
    "        \n",
    "        return our_list\n",
    "    "
   ]
  },
  {
   "cell_type": "code",
   "execution_count": 20,
   "metadata": {},
   "outputs": [
    {
     "name": "stdout",
     "output_type": "stream",
     "text": [
      "1\n",
      "2\n",
      "4\n"
     ]
    }
   ],
   "source": [
    "linked_list = LinkedList()\n",
    "linked_list.append(1)\n",
    "linked_list.append(2)\n",
    "linked_list.append(4)\n",
    "node = linked_list.head\n",
    "print_linked_list(node)"
   ]
  },
  {
   "cell_type": "markdown",
   "metadata": {},
   "source": [
    "## Doubly Linked List "
   ]
  },
  {
   "cell_type": "code",
   "execution_count": 21,
   "metadata": {},
   "outputs": [],
   "source": [
    "class DoubleNode:\n",
    "    def __init__(self,value):\n",
    "        self.value = value\n",
    "        self.next = None\n",
    "        self.previous = None"
   ]
  },
  {
   "cell_type": "code",
   "execution_count": 22,
   "metadata": {},
   "outputs": [],
   "source": [
    "class DoublyLinkedList:\n",
    "    def __init__(self):\n",
    "        self.head = None\n",
    "        self.tail = None\n",
    "    \n",
    "    def append(self,value):\n",
    "        if self.head is None:\n",
    "            self.head = DoubleNode(value)\n",
    "            self.tail = self.head\n",
    "            return\n",
    "        \n",
    "        self.tail.next = DoubleNode(value)\n",
    "        self.tail.next.previous = self.tail\n",
    "        self.tail = self.tail.next\n",
    "        return"
   ]
  },
  {
   "cell_type": "code",
   "execution_count": 24,
   "metadata": {},
   "outputs": [
    {
     "name": "stdout",
     "output_type": "stream",
     "text": [
      "Going forward through the list\n",
      "1\n",
      "-2\n",
      "4\n",
      "\n",
      "Going backward through the list\n",
      "4\n",
      "-2\n",
      "1\n"
     ]
    }
   ],
   "source": [
    "linked_list = DoublyLinkedList()\n",
    "linked_list.append(1)\n",
    "linked_list.append(-2)\n",
    "linked_list.append(4)\n",
    "\n",
    "print(\"Going forward through the list\")\n",
    "node = linked_list.head\n",
    "while node:\n",
    "    print(node.value)\n",
    "    node = node.next\n",
    "\n",
    "print(\"\\nGoing backward through the list\")\n",
    "node = linked_list.tail\n",
    "while node:\n",
    "    print(node.value)\n",
    "    node = node.previous"
   ]
  },
  {
   "cell_type": "code",
   "execution_count": null,
   "metadata": {},
   "outputs": [],
   "source": []
  }
 ],
 "metadata": {
  "kernelspec": {
   "display_name": "Python 3",
   "language": "python",
   "name": "python3"
  },
  "language_info": {
   "codemirror_mode": {
    "name": "ipython",
    "version": 3
   },
   "file_extension": ".py",
   "mimetype": "text/x-python",
   "name": "python",
   "nbconvert_exporter": "python",
   "pygments_lexer": "ipython3",
   "version": "3.7.3"
  }
 },
 "nbformat": 4,
 "nbformat_minor": 2
}
