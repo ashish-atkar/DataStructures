{
 "cells": [
  {
   "cell_type": "markdown",
   "metadata": {},
   "source": [
    "## Functionality\n",
    "Our goal will be to implement a `Stack` class that has the following behaviors:\n",
    "\n",
    "1. `push` - adds an item to the top of the stack\n",
    "2. `pop` - removes an item from the top of the stack (and returns the value of that item)\n",
    "3. `size` - returns the size of the stack\n",
    "4. `top` - returns the value of the item at the top of stack (without removing that item)\n",
    "5. `is_empty` - returns `True` if the stack is empty and `False` otherwise"
   ]
  },
  {
   "cell_type": "code",
   "execution_count": 7,
   "metadata": {},
   "outputs": [],
   "source": [
    "class Stack:\n",
    "    def __init__(self,initial_size=10):\n",
    "        self.arr = [0 for _ in range(initial_size)]\n",
    "        self.next_index = 0\n",
    "        self.num_elements = 0\n",
    "        \n",
    "    def push(self,value):\n",
    "        \n",
    "        if self.next_index == len(self.arr):\n",
    "            print('Out of Size! Increasing Array Capacity')\n",
    "            self._handle_stack_capacity_full()\n",
    "        \n",
    "        self.arr[self.next_index] = value\n",
    "        self.next_index += 1\n",
    "        self.num_elements += 1\n",
    "        \n",
    "    def _handle_stack_capacity_full(self):\n",
    "        old_arr = self.arr\n",
    "        \n",
    "        self.arr = [0 for _ in range(2*len(old_arr))]\n",
    "        for index,value in enumerate(old_arr):\n",
    "            self.arr[index] = value\n",
    "                                     \n",
    "                \n",
    "    def size(self):\n",
    "        return self.num_elements\n",
    "    \n",
    "    def is_empty(self):\n",
    "        return self.num_elements == 0\n",
    "    \n",
    "    def pop(self):\n",
    "        if self.is_empty():\n",
    "            self.next_index = 0\n",
    "            return None\n",
    "        \n",
    "        self.next_index -= 1\n",
    "        self.num_elements -= 1\n",
    "        return self.arr[self.next_index]\n",
    "        "
   ]
  },
  {
   "cell_type": "code",
   "execution_count": 6,
   "metadata": {},
   "outputs": [
    {
     "name": "stdout",
     "output_type": "stream",
     "text": [
      "0\n",
      "True\n",
      "1\n",
      "False\n"
     ]
    }
   ],
   "source": [
    "#Lets test Size and is_empty method\n",
    "foo = Stack()\n",
    "print(foo.size()) # Should return 0\n",
    "print(foo.is_empty()) # Should return True\n",
    "foo.push(\"Test\") # Let's push an item onto the stack and check again\n",
    "print(foo.size()) # Should return 1\n",
    "print(foo.is_empty()) # Should return False"
   ]
  },
  {
   "cell_type": "code",
   "execution_count": 8,
   "metadata": {},
   "outputs": [
    {
     "name": "stdout",
     "output_type": "stream",
     "text": [
      "Test\n",
      "None\n"
     ]
    }
   ],
   "source": [
    "#Lets test Pop method\n",
    "foo = Stack()\n",
    "foo.push(\"Test\") # We first have to push an item so that we'll have something to pop\n",
    "print(foo.pop()) # Should return the popped item, which is \"Test\"\n",
    "print(foo.pop()) # Should return None, since there's nothing left in the stack"
   ]
  },
  {
   "cell_type": "code",
   "execution_count": null,
   "metadata": {},
   "outputs": [],
   "source": []
  }
 ],
 "metadata": {
  "kernelspec": {
   "display_name": "Python 3",
   "language": "python",
   "name": "python3"
  },
  "language_info": {
   "codemirror_mode": {
    "name": "ipython",
    "version": 3
   },
   "file_extension": ".py",
   "mimetype": "text/x-python",
   "name": "python",
   "nbconvert_exporter": "python",
   "pygments_lexer": "ipython3",
   "version": "3.7.3"
  }
 },
 "nbformat": 4,
 "nbformat_minor": 2
}
