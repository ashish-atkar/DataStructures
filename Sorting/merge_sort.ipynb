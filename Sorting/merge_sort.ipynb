{
 "cells": [
  {
   "cell_type": "markdown",
   "metadata": {},
   "source": [
    "\n",
    "\n",
    "**For merge sort we need one more concept of merging of two sorted arrays in one array so we will first see that part and \n",
    "then complete sorting algo**\n",
    "\n"
   ]
  },
  {
   "cell_type": "code",
   "execution_count": 3,
   "metadata": {},
   "outputs": [],
   "source": [
    "def merge_sorted_arrays(L,R,A):\n",
    "    nL,nR = len(L),len(R)\n",
    "    i=j=0\n",
    "    \n",
    "    while i < nL and j < nR:\n",
    "        if L[i] < R[j]:\n",
    "            A.append(L[i])\n",
    "            i += 1\n",
    "        else:\n",
    "            A.append(R[j])\n",
    "            j += 1\n",
    "        \n",
    "    \n",
    "    while i < nL:\n",
    "        A.append(L[i])\n",
    "        i += 1\n",
    "        \n",
    "    while j < nR:\n",
    "        A.append(R[j])\n",
    "        j += 1\n",
    "        \n",
    "    "
   ]
  },
  {
   "cell_type": "code",
   "execution_count": 7,
   "metadata": {},
   "outputs": [
    {
     "name": "stdout",
     "output_type": "stream",
     "text": [
      "Array after merging: [1, 2, 3, 3, 4, 4, 5, 6, 7, 8, 9]\n"
     ]
    }
   ],
   "source": [
    "arr1 = [1,2,3,4]\n",
    "arr2 = [3,4,5,6,7,8,9]\n",
    "arr_mixed = []\n",
    "merge_sorted_arrays(arr1,arr2,arr_mixed)\n",
    "print('Array after merging: {}'.format(arr_mixed))"
   ]
  },
  {
   "cell_type": "code",
   "execution_count": null,
   "metadata": {},
   "outputs": [],
   "source": []
  }
 ],
 "metadata": {
  "kernelspec": {
   "display_name": "Python 3",
   "language": "python",
   "name": "python3"
  },
  "language_info": {
   "codemirror_mode": {
    "name": "ipython",
    "version": 3
   },
   "file_extension": ".py",
   "mimetype": "text/x-python",
   "name": "python",
   "nbconvert_exporter": "python",
   "pygments_lexer": "ipython3",
   "version": "3.7.3"
  }
 },
 "nbformat": 4,
 "nbformat_minor": 2
}
