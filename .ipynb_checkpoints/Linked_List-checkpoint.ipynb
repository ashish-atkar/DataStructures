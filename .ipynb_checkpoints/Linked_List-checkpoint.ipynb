{
 "cells": [
  {
   "cell_type": "code",
   "execution_count": 4,
   "metadata": {},
   "outputs": [
    {
     "name": "stdout",
     "output_type": "stream",
     "text": [
      "1\n"
     ]
    }
   ],
   "source": [
    "class Node:\n",
    "    def __init__(self,value):\n",
    "        self.value=value\n",
    "        self.next=None\n",
    "        \n",
    "head = Node(2)\n",
    "head.next = Node(1)\n",
    "print(head.next.value)"
   ]
  },
  {
   "cell_type": "code",
   "execution_count": 7,
   "metadata": {},
   "outputs": [],
   "source": [
    "def print_linked_list(head):\n",
    "    current_node = head\n",
    "    \n",
    "    while current_node is not None:\n",
    "        print(current_node.value)\n",
    "        current_node = current_node.next\n"
   ]
  },
  {
   "cell_type": "code",
   "execution_count": 10,
   "metadata": {},
   "outputs": [],
   "source": [
    "#this create function has nested loops whie inside for loop and for every value we need to traverse the list from first and \n",
    "#    then add node this makes time complexity as O(n) \n",
    "def create_linked_list(input_list):\n",
    "    head = None\n",
    "    \n",
    "    for value in input_list:\n",
    "        if head is None:\n",
    "            head = Node(value)\n",
    "        else:\n",
    "            current_node = head\n",
    "            while current_node.next:\n",
    "                current_node = current_node.next\n",
    "            current_node.next = Node(value)\n",
    "            \n",
    "#So lets try to reduce time complexity by adding tail reference so that we can keep the track of end node\n",
    "def create_linked_list_better(input_list):\n",
    "    head = None\n",
    "    tail = None \n",
    "    \n",
    "    for value in input_list:\n",
    "        \n",
    "        if head is None:\n",
    "            head = Node(value)\n",
    "            tail = head\n",
    "        else:\n",
    "            tail.next = Node(value)\n",
    "            tail = tail.next\n",
    "            \n",
    "    return head\n",
    "\n",
    "#So now we created linked list in O(n)"
   ]
  },
  {
   "cell_type": "code",
   "execution_count": null,
   "metadata": {},
   "outputs": [],
   "source": []
  },
  {
   "cell_type": "code",
   "execution_count": null,
   "metadata": {},
   "outputs": [],
   "source": []
  },
  {
   "cell_type": "code",
   "execution_count": null,
   "metadata": {},
   "outputs": [],
   "source": []
  }
 ],
 "metadata": {
  "kernelspec": {
   "display_name": "Python 3",
   "language": "python",
   "name": "python3"
  },
  "language_info": {
   "codemirror_mode": {
    "name": "ipython",
    "version": 3
   },
   "file_extension": ".py",
   "mimetype": "text/x-python",
   "name": "python",
   "nbconvert_exporter": "python",
   "pygments_lexer": "ipython3",
   "version": "3.7.3"
  }
 },
 "nbformat": 4,
 "nbformat_minor": 2
}
